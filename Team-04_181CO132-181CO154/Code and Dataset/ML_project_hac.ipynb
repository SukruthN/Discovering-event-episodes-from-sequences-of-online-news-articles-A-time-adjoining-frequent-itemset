{
  "nbformat": 4,
  "nbformat_minor": 0,
  "metadata": {
    "colab": {
      "name": "ML_project_hac.ipynb",
      "provenance": []
    },
    "kernelspec": {
      "name": "python3",
      "display_name": "Python 3"
    },
    "language_info": {
      "name": "python"
    }
  },
  "cells": [
    {
      "cell_type": "code",
      "metadata": {
        "id": "qlPtSveqUsjL"
      },
      "source": [
        "# Import package\n",
        "import numpy as np\n",
        "import pandas as pd \n",
        "import nltk\n",
        "import re\n",
        "import string\n",
        "import scipy.sparse as sp\n",
        "import matplotlib.pyplot as plt\n",
        "from sklearn.preprocessing import normalize\n",
        "from sklearn.decomposition import TruncatedSVD\n",
        "from sklearn.cluster import KMeans \n",
        "from sklearn.metrics import silhouette_score\n",
        "from sklearn.metrics import pairwise_distances_argmin_min\n",
        "from sklearn.metrics.pairwise import cosine_similarity"
      ],
      "execution_count": 1,
      "outputs": []
    },
    {
      "cell_type": "code",
      "metadata": {
        "id": "mo5hWtSjU5R_",
        "colab": {
          "base_uri": "https://localhost:8080/"
        },
        "outputId": "9b8c36d4-1ea1-4065-d20a-402152cec3e5"
      },
      "source": [
        "from google.colab import drive\n",
        "\n",
        "drive.mount('/content/gdrive')"
      ],
      "execution_count": 2,
      "outputs": [
        {
          "output_type": "stream",
          "text": [
            "Mounted at /content/gdrive\n"
          ],
          "name": "stdout"
        }
      ]
    },
    {
      "cell_type": "code",
      "metadata": {
        "id": "xDKqqKOtVJVM"
      },
      "source": [
        "raw_articles_data = pd.read_excel('/content/gdrive/MyDrive/data/news_dataset.xlsx')"
      ],
      "execution_count": 3,
      "outputs": []
    },
    {
      "cell_type": "code",
      "metadata": {
        "id": "lTRY_dXFV7gh",
        "colab": {
          "base_uri": "https://localhost:8080/",
          "height": 1000
        },
        "outputId": "d8629d42-8cd5-4d2d-b62b-522494f36b90"
      },
      "source": [
        "raw_articles_data"
      ],
      "execution_count": 4,
      "outputs": [
        {
          "output_type": "execute_result",
          "data": {
            "text/html": [
              "<div>\n",
              "<style scoped>\n",
              "    .dataframe tbody tr th:only-of-type {\n",
              "        vertical-align: middle;\n",
              "    }\n",
              "\n",
              "    .dataframe tbody tr th {\n",
              "        vertical-align: top;\n",
              "    }\n",
              "\n",
              "    .dataframe thead th {\n",
              "        text-align: right;\n",
              "    }\n",
              "</style>\n",
              "<table border=\"1\" class=\"dataframe\">\n",
              "  <thead>\n",
              "    <tr style=\"text-align: right;\">\n",
              "      <th></th>\n",
              "      <th>Unnamed: 0</th>\n",
              "      <th>source</th>\n",
              "      <th>author</th>\n",
              "      <th>title</th>\n",
              "      <th>description</th>\n",
              "      <th>url</th>\n",
              "      <th>urlToImage</th>\n",
              "      <th>publishedAt</th>\n",
              "      <th>content</th>\n",
              "    </tr>\n",
              "  </thead>\n",
              "  <tbody>\n",
              "    <tr>\n",
              "      <th>0</th>\n",
              "      <td>0</td>\n",
              "      <td>{'id': 'the-verge', 'name': 'The Verge'}</td>\n",
              "      <td>Jon Porter</td>\n",
              "      <td>Twitter’s voice DMs arrive in India</td>\n",
              "      <td>Twitter has rolled out support for voice DMs o...</td>\n",
              "      <td>https://www.theverge.com/2021/2/17/22287091/tw...</td>\n",
              "      <td>https://cdn.vox-cdn.com/thumbor/31wcDz-dd7XKS5...</td>\n",
              "      <td>2021-02-17T13:18:32Z</td>\n",
              "      <td>For when theres just way too much to type\\r\\nI...</td>\n",
              "    </tr>\n",
              "    <tr>\n",
              "      <th>1</th>\n",
              "      <td>1</td>\n",
              "      <td>{'id': 'engadget', 'name': 'Engadget'}</td>\n",
              "      <td>Daniel Cooper</td>\n",
              "      <td>Amazon follows Netflix with mobile-only video ...</td>\n",
              "      <td>Amazon Prime Video and Bharti Airtel, India’s ...</td>\n",
              "      <td>https://www.engadget.com/amazon-prime-video-mo...</td>\n",
              "      <td>https://o.aolcdn.com/images/dims?resize=1200%2...</td>\n",
              "      <td>2021-01-13T11:15:31Z</td>\n",
              "      <td>Amazon Prime Video and Bharti Airtel, India’s ...</td>\n",
              "    </tr>\n",
              "    <tr>\n",
              "      <th>2</th>\n",
              "      <td>2</td>\n",
              "      <td>{'id': 'techcrunch', 'name': 'TechCrunch'}</td>\n",
              "      <td>Manish Singh</td>\n",
              "      <td>India bans PUBG and over 100 additional Chines...</td>\n",
              "      <td>India has banned more than 100 additional Chin...</td>\n",
              "      <td>http://techcrunch.com/2020/09/02/india-bans-pu...</td>\n",
              "      <td>https://techcrunch.com/wp-content/uploads/2020...</td>\n",
              "      <td>2020-09-02T12:02:29Z</td>\n",
              "      <td>India has banned more than 100 additional apps...</td>\n",
              "    </tr>\n",
              "    <tr>\n",
              "      <th>3</th>\n",
              "      <td>3</td>\n",
              "      <td>{'id': 'engadget', 'name': 'Engadget'}</td>\n",
              "      <td>Steve Dent</td>\n",
              "      <td>Samsung begins offering support requests via W...</td>\n",
              "      <td>With the COVID-19 crisis continuing unabated i...</td>\n",
              "      <td>https://www.engadget.com/samsung-whatsapp-smar...</td>\n",
              "      <td>https://o.aolcdn.com/images/dims?resize=1200%2...</td>\n",
              "      <td>2020-07-06T08:49:00Z</td>\n",
              "      <td>With the COVID-19 crisis continuing unabated i...</td>\n",
              "    </tr>\n",
              "    <tr>\n",
              "      <th>4</th>\n",
              "      <td>4</td>\n",
              "      <td>{'id': 'engadget', 'name': 'Engadget'}</td>\n",
              "      <td>Mariella Moon</td>\n",
              "      <td>Sony is launching the PS5 in India on February...</td>\n",
              "      <td>PlayStation gamers in India will finally have ...</td>\n",
              "      <td>https://www.engadget.com/sony-ps5-india-launch...</td>\n",
              "      <td>https://o.aolcdn.com/images/dims?resize=1200%2...</td>\n",
              "      <td>2021-01-01T09:05:35Z</td>\n",
              "      <td>PlayStation gamers in India will finally have ...</td>\n",
              "    </tr>\n",
              "    <tr>\n",
              "      <th>...</th>\n",
              "      <td>...</td>\n",
              "      <td>...</td>\n",
              "      <td>...</td>\n",
              "      <td>...</td>\n",
              "      <td>...</td>\n",
              "      <td>...</td>\n",
              "      <td>...</td>\n",
              "      <td>...</td>\n",
              "      <td>...</td>\n",
              "    </tr>\n",
              "    <tr>\n",
              "      <th>9895</th>\n",
              "      <td>9895</td>\n",
              "      <td>{'id': None, 'name': 'New York Times'}</td>\n",
              "      <td>Allyson Waller</td>\n",
              "      <td>A Cat Is Said to Be Joining the Bidens in the ...</td>\n",
              "      <td>The last cat to live in the White House, India...</td>\n",
              "      <td>https://www.nytimes.com/2020/11/28/us/Biden-ca...</td>\n",
              "      <td>https://static01.nyt.com/images/2020/11/28/mul...</td>\n",
              "      <td>2020-11-29T00:35:41Z</td>\n",
              "      <td>Jennifer Pickens, a White House historian and ...</td>\n",
              "    </tr>\n",
              "    <tr>\n",
              "      <th>9896</th>\n",
              "      <td>9896</td>\n",
              "      <td>{'id': 'reuters', 'name': 'Reuters'}</td>\n",
              "      <td>NaN</td>\n",
              "      <td>India this week - Reuters India</td>\n",
              "      <td>A policeman directs crowd at a railway station...</td>\n",
              "      <td>https://in.reuters.com/news/picture/india-this...</td>\n",
              "      <td>https://s4.reutersmedia.net/resources/r/?m=02&amp;...</td>\n",
              "      <td>2020-12-04T17:42:09Z</td>\n",
              "      <td>Reuters, the news and media division of Thomso...</td>\n",
              "    </tr>\n",
              "    <tr>\n",
              "      <th>9897</th>\n",
              "      <td>9897</td>\n",
              "      <td>{'id': None, 'name': 'BBC News'}</td>\n",
              "      <td>https://www.facebook.com/bbcnews</td>\n",
              "      <td>India extends coronavirus lockdown by two weeks</td>\n",
              "      <td>The country's major cities will remain under s...</td>\n",
              "      <td>https://www.bbc.com/news/world-asia-india-5269...</td>\n",
              "      <td>https://ichef.bbci.co.uk/news/1024/branded_new...</td>\n",
              "      <td>2020-05-17T14:48:13Z</td>\n",
              "      <td>Image copyrightGetty ImagesImage caption\\r\\n T...</td>\n",
              "    </tr>\n",
              "    <tr>\n",
              "      <th>9898</th>\n",
              "      <td>9898</td>\n",
              "      <td>{'id': 'bbc-news', 'name': 'BBC News'}</td>\n",
              "      <td>https://www.facebook.com/bbcnews</td>\n",
              "      <td>India coronavirus: Bihar braces for 'corona st...</td>\n",
              "      <td>Cases are rising fast in one of India's poores...</td>\n",
              "      <td>https://www.bbc.co.uk/news/world-asia-india-53...</td>\n",
              "      <td>https://ichef.bbci.co.uk/news/1024/branded_new...</td>\n",
              "      <td>2020-07-26T23:11:51Z</td>\n",
              "      <td>Image copyrightGetty ImagesImage caption\\r\\n B...</td>\n",
              "    </tr>\n",
              "    <tr>\n",
              "      <th>9899</th>\n",
              "      <td>9899</td>\n",
              "      <td>{'id': 'the-verge', 'name': 'The Verge'}</td>\n",
              "      <td>Kim Lyons</td>\n",
              "      <td>WhatsApp launches digital payments in Brazil a...</td>\n",
              "      <td>After testing a beta version in India, WhatsAp...</td>\n",
              "      <td>https://www.theverge.com/2020/6/15/21291382/wh...</td>\n",
              "      <td>https://cdn.vox-cdn.com/thumbor/WuOhvy0-dKnyWz...</td>\n",
              "      <td>2020-06-15T14:19:12Z</td>\n",
              "      <td>The payments are enabled by Facebook Pay \\r\\nW...</td>\n",
              "    </tr>\n",
              "  </tbody>\n",
              "</table>\n",
              "<p>9900 rows × 9 columns</p>\n",
              "</div>"
            ],
            "text/plain": [
              "      Unnamed: 0  ...                                            content\n",
              "0              0  ...  For when theres just way too much to type\\r\\nI...\n",
              "1              1  ...  Amazon Prime Video and Bharti Airtel, India’s ...\n",
              "2              2  ...  India has banned more than 100 additional apps...\n",
              "3              3  ...  With the COVID-19 crisis continuing unabated i...\n",
              "4              4  ...  PlayStation gamers in India will finally have ...\n",
              "...          ...  ...                                                ...\n",
              "9895        9895  ...  Jennifer Pickens, a White House historian and ...\n",
              "9896        9896  ...  Reuters, the news and media division of Thomso...\n",
              "9897        9897  ...  Image copyrightGetty ImagesImage caption\\r\\n T...\n",
              "9898        9898  ...  Image copyrightGetty ImagesImage caption\\r\\n B...\n",
              "9899        9899  ...  The payments are enabled by Facebook Pay \\r\\nW...\n",
              "\n",
              "[9900 rows x 9 columns]"
            ]
          },
          "metadata": {
            "tags": []
          },
          "execution_count": 4
        }
      ]
    },
    {
      "cell_type": "code",
      "metadata": {
        "id": "6L8ptywKWLFf"
      },
      "source": [
        "titles=[]\n",
        "dates=[]\n",
        "descriptions=[]\n",
        "contents=[]\n",
        "for index,item in raw_articles_data.iterrows():\n",
        "  titles.append(item['title'])\n",
        "  dates.append(item['publishedAt'])\n",
        "  descriptions.append(item['description'])\n",
        "  contents.append(item['content'])\n",
        "\n",
        "\n"
      ],
      "execution_count": 5,
      "outputs": []
    },
    {
      "cell_type": "code",
      "metadata": {
        "id": "kWTwSC3aasKz"
      },
      "source": [
        "dataset=pd.DataFrame({'title': titles, 'date': dates, 'desc': descriptions, 'content': contents})\n",
        "dataset=dataset.drop_duplicates(subset='title').reset_index(drop=True)\n",
        "dataset=dataset.dropna()"
      ],
      "execution_count": 6,
      "outputs": []
    },
    {
      "cell_type": "code",
      "metadata": {
        "id": "ILdn0xuDbZwx",
        "colab": {
          "base_uri": "https://localhost:8080/",
          "height": 195
        },
        "outputId": "bbc81b92-3d83-4dde-99e4-8fc5b22dea4c"
      },
      "source": [
        "dataset.head()"
      ],
      "execution_count": 7,
      "outputs": [
        {
          "output_type": "execute_result",
          "data": {
            "text/html": [
              "<div>\n",
              "<style scoped>\n",
              "    .dataframe tbody tr th:only-of-type {\n",
              "        vertical-align: middle;\n",
              "    }\n",
              "\n",
              "    .dataframe tbody tr th {\n",
              "        vertical-align: top;\n",
              "    }\n",
              "\n",
              "    .dataframe thead th {\n",
              "        text-align: right;\n",
              "    }\n",
              "</style>\n",
              "<table border=\"1\" class=\"dataframe\">\n",
              "  <thead>\n",
              "    <tr style=\"text-align: right;\">\n",
              "      <th></th>\n",
              "      <th>title</th>\n",
              "      <th>date</th>\n",
              "      <th>desc</th>\n",
              "      <th>content</th>\n",
              "    </tr>\n",
              "  </thead>\n",
              "  <tbody>\n",
              "    <tr>\n",
              "      <th>0</th>\n",
              "      <td>Twitter’s voice DMs arrive in India</td>\n",
              "      <td>2021-02-17T13:18:32Z</td>\n",
              "      <td>Twitter has rolled out support for voice DMs o...</td>\n",
              "      <td>For when theres just way too much to type\\r\\nI...</td>\n",
              "    </tr>\n",
              "    <tr>\n",
              "      <th>1</th>\n",
              "      <td>Amazon follows Netflix with mobile-only video ...</td>\n",
              "      <td>2021-01-13T11:15:31Z</td>\n",
              "      <td>Amazon Prime Video and Bharti Airtel, India’s ...</td>\n",
              "      <td>Amazon Prime Video and Bharti Airtel, India’s ...</td>\n",
              "    </tr>\n",
              "    <tr>\n",
              "      <th>2</th>\n",
              "      <td>India bans PUBG and over 100 additional Chines...</td>\n",
              "      <td>2020-09-02T12:02:29Z</td>\n",
              "      <td>India has banned more than 100 additional Chin...</td>\n",
              "      <td>India has banned more than 100 additional apps...</td>\n",
              "    </tr>\n",
              "    <tr>\n",
              "      <th>3</th>\n",
              "      <td>Samsung begins offering support requests via W...</td>\n",
              "      <td>2020-07-06T08:49:00Z</td>\n",
              "      <td>With the COVID-19 crisis continuing unabated i...</td>\n",
              "      <td>With the COVID-19 crisis continuing unabated i...</td>\n",
              "    </tr>\n",
              "    <tr>\n",
              "      <th>4</th>\n",
              "      <td>Sony is launching the PS5 in India on February...</td>\n",
              "      <td>2021-01-01T09:05:35Z</td>\n",
              "      <td>PlayStation gamers in India will finally have ...</td>\n",
              "      <td>PlayStation gamers in India will finally have ...</td>\n",
              "    </tr>\n",
              "  </tbody>\n",
              "</table>\n",
              "</div>"
            ],
            "text/plain": [
              "                                               title  ...                                            content\n",
              "0                Twitter’s voice DMs arrive in India  ...  For when theres just way too much to type\\r\\nI...\n",
              "1  Amazon follows Netflix with mobile-only video ...  ...  Amazon Prime Video and Bharti Airtel, India’s ...\n",
              "2  India bans PUBG and over 100 additional Chines...  ...  India has banned more than 100 additional apps...\n",
              "3  Samsung begins offering support requests via W...  ...  With the COVID-19 crisis continuing unabated i...\n",
              "4  Sony is launching the PS5 in India on February...  ...  PlayStation gamers in India will finally have ...\n",
              "\n",
              "[5 rows x 4 columns]"
            ]
          },
          "metadata": {
            "tags": []
          },
          "execution_count": 7
        }
      ]
    },
    {
      "cell_type": "code",
      "metadata": {
        "id": "yE7BZfK3iBDl",
        "colab": {
          "base_uri": "https://localhost:8080/"
        },
        "outputId": "a89f1f16-d83c-460e-8a8d-920554b324f7"
      },
      "source": [
        "dataset.shape"
      ],
      "execution_count": 8,
      "outputs": [
        {
          "output_type": "execute_result",
          "data": {
            "text/plain": [
              "(100, 4)"
            ]
          },
          "metadata": {
            "tags": []
          },
          "execution_count": 8
        }
      ]
    },
    {
      "cell_type": "code",
      "metadata": {
        "id": "D3z4-2zqmcM-"
      },
      "source": [
        "# Create function to process and tokenize raw texts\n",
        "def preprocess(text, stopwords={}, lemmatizer=nltk.stem.wordnet.WordNetLemmatizer()):\n",
        "    # Lower case\n",
        "    text = text.lower()\n",
        "    # Handle URL\n",
        "    text = re.sub(r\"https?://t.co/\\w{10}\",' ', text)\n",
        "    # Deal with \"'s\" \n",
        "    text = re.sub(r\"'s\", \"\", text)\n",
        "    # Deal with \"'\" \n",
        "    translator2 = str.maketrans({key: None for key in string.punctuation[6]})\n",
        "    text = text.translate(translator2) \n",
        "    # Deal with the rest of punctuations\n",
        "    translator3 = str.maketrans(string.punctuation, ' '*len(string.punctuation))\n",
        "    text = text.translate(translator3)\n",
        "    # Handle unicode\n",
        "    text = re.sub(r'[^\\x00-\\x7F]+',' ', text)\n",
        "    # Split the text\n",
        "    r1 = nltk.word_tokenize(text)\n",
        "    # Lemmatize the text\n",
        "    r2 = [lemmatizer.lemmatize(word) for word in r1]\n",
        "    # Remove the stopwords\n",
        "    r3 = [word for word in r2 if not word in stopwords]\n",
        "    # Remove digits\n",
        "    r4 = [word for word in r3 if word.isalpha()]\n",
        "    return r4"
      ],
      "execution_count": 9,
      "outputs": []
    },
    {
      "cell_type": "code",
      "metadata": {
        "id": "JORm7fILmd_9",
        "colab": {
          "base_uri": "https://localhost:8080/"
        },
        "outputId": "961d6a4d-9129-450f-a16f-c9be1ec8a6ea"
      },
      "source": [
        "# Import NLTK stopwords\n",
        "nltk.download('stopwords')\n",
        "nltk.download('wordnet')\n",
        "nltk.download('punkt')\n",
        "extra_stopwords = set()\n",
        "stopwords = set(nltk.corpus.stopwords.words('english')) | extra_stopwords"
      ],
      "execution_count": 10,
      "outputs": [
        {
          "output_type": "stream",
          "text": [
            "[nltk_data] Downloading package stopwords to /root/nltk_data...\n",
            "[nltk_data]   Unzipping corpora/stopwords.zip.\n",
            "[nltk_data] Downloading package wordnet to /root/nltk_data...\n",
            "[nltk_data]   Unzipping corpora/wordnet.zip.\n",
            "[nltk_data] Downloading package punkt to /root/nltk_data...\n",
            "[nltk_data]   Unzipping tokenizers/punkt.zip.\n"
          ],
          "name": "stdout"
        }
      ]
    },
    {
      "cell_type": "code",
      "metadata": {
        "id": "kxoxxcJQnBEB"
      },
      "source": [
        "# Put the preprocessed texts into a list\n",
        "articles = []\n",
        "\n",
        "for i in range(0,dataset.shape[0]):\n",
        "    tokenized_text = preprocess(dataset['content'][i], stopwords)\n",
        "    articles.append(' '.join(tokenized_text))"
      ],
      "execution_count": 11,
      "outputs": []
    },
    {
      "cell_type": "code",
      "metadata": {
        "id": "Yz0dQf9Nq9iB"
      },
      "source": [
        "from sklearn.feature_extraction.text import CountVectorizer\n",
        "from sklearn.feature_extraction.text import TfidfTransformer\n",
        "from sklearn.feature_extraction.text import TfidfVectorizer"
      ],
      "execution_count": 19,
      "outputs": []
    },
    {
      "cell_type": "code",
      "metadata": {
        "id": "d65u5-E5wUPv",
        "colab": {
          "base_uri": "https://localhost:8080/"
        },
        "outputId": "35ae8c8f-0500-4dd1-fc87-242793461c95"
      },
      "source": [
        "doc = CountVectorizer()\n",
        "word_count=doc.fit_transform(articles)\n",
        "word_count.shape\n",
        "print(word_count)"
      ],
      "execution_count": 20,
      "outputs": [
        {
          "output_type": "stream",
          "text": [
            "  (0, 1030)\t1\n",
            "  (0, 622)\t1\n",
            "  (0, 992)\t1\n",
            "  (0, 471)\t1\n",
            "  (0, 29)\t1\n",
            "  (0, 147)\t1\n",
            "  (0, 1013)\t1\n",
            "  (0, 990)\t1\n",
            "  (0, 437)\t2\n",
            "  (0, 816)\t1\n",
            "  (0, 927)\t1\n",
            "  (0, 1024)\t1\n",
            "  (0, 279)\t1\n",
            "  (0, 597)\t1\n",
            "  (0, 508)\t1\n",
            "  (0, 45)\t1\n",
            "  (0, 484)\t1\n",
            "  (0, 898)\t1\n",
            "  (0, 968)\t1\n",
            "  (0, 191)\t1\n",
            "  (0, 157)\t1\n",
            "  (1, 484)\t1\n",
            "  (1, 157)\t1\n",
            "  (1, 39)\t1\n",
            "  (1, 740)\t2\n",
            "  :\t:\n",
            "  (98, 163)\t1\n",
            "  (98, 676)\t1\n",
            "  (98, 427)\t1\n",
            "  (98, 1049)\t1\n",
            "  (99, 437)\t1\n",
            "  (99, 484)\t1\n",
            "  (99, 191)\t1\n",
            "  (99, 157)\t1\n",
            "  (99, 47)\t1\n",
            "  (99, 348)\t1\n",
            "  (99, 1037)\t2\n",
            "  (99, 53)\t1\n",
            "  (99, 726)\t1\n",
            "  (99, 952)\t1\n",
            "  (99, 692)\t2\n",
            "  (99, 117)\t1\n",
            "  (99, 612)\t1\n",
            "  (99, 1015)\t1\n",
            "  (99, 691)\t1\n",
            "  (99, 540)\t1\n",
            "  (99, 317)\t1\n",
            "  (99, 98)\t1\n",
            "  (99, 110)\t1\n",
            "  (99, 1017)\t1\n",
            "  (99, 941)\t1\n"
          ],
          "name": "stdout"
        }
      ]
    },
    {
      "cell_type": "code",
      "metadata": {
        "colab": {
          "base_uri": "https://localhost:8080/"
        },
        "id": "BY8gTJvE47N8",
        "outputId": "c6e31c28-b449-4300-a21f-a8b45b77600e"
      },
      "source": [
        "print(word_count.toarray())"
      ],
      "execution_count": 21,
      "outputs": [
        {
          "output_type": "stream",
          "text": [
            "[[0 0 0 ... 0 0 0]\n",
            " [0 0 0 ... 0 0 0]\n",
            " [0 0 0 ... 0 0 0]\n",
            " ...\n",
            " [0 0 0 ... 0 0 0]\n",
            " [0 0 0 ... 0 0 0]\n",
            " [0 0 0 ... 0 0 0]]\n"
          ],
          "name": "stdout"
        }
      ]
    },
    {
      "cell_type": "code",
      "metadata": {
        "colab": {
          "base_uri": "https://localhost:8080/",
          "height": 1000
        },
        "id": "7o3pzGUn8iZW",
        "outputId": "3ac14010-c268-49ef-f449-e3dfef0d466b"
      },
      "source": [
        "tfidf_transformer=TfidfTransformer(smooth_idf=True,use_idf=True)\n",
        "tfidf_transformer.fit(word_count)\n",
        "df_idf = pd.DataFrame(tfidf_transformer.idf_, index=doc.get_feature_names(),columns=[\"idf_weights\"])\n",
        "df_idf.sort_values(by=['idf_weights']).head(40)"
      ],
      "execution_count": 22,
      "outputs": [
        {
          "output_type": "execute_result",
          "data": {
            "text/html": [
              "<div>\n",
              "<style scoped>\n",
              "    .dataframe tbody tr th:only-of-type {\n",
              "        vertical-align: middle;\n",
              "    }\n",
              "\n",
              "    .dataframe tbody tr th {\n",
              "        vertical-align: top;\n",
              "    }\n",
              "\n",
              "    .dataframe thead th {\n",
              "        text-align: right;\n",
              "    }\n",
              "</style>\n",
              "<table border=\"1\" class=\"dataframe\">\n",
              "  <thead>\n",
              "    <tr style=\"text-align: right;\">\n",
              "      <th></th>\n",
              "      <th>idf_weights</th>\n",
              "    </tr>\n",
              "  </thead>\n",
              "  <tbody>\n",
              "    <tr>\n",
              "      <th>char</th>\n",
              "      <td>1.009950</td>\n",
              "    </tr>\n",
              "    <tr>\n",
              "      <th>india</th>\n",
              "      <td>1.258412</td>\n",
              "    </tr>\n",
              "    <tr>\n",
              "      <th>ha</th>\n",
              "      <td>1.853920</td>\n",
              "    </tr>\n",
              "    <tr>\n",
              "      <th>new</th>\n",
              "      <td>2.619388</td>\n",
              "    </tr>\n",
              "    <tr>\n",
              "      <th>largest</th>\n",
              "      <td>2.670682</td>\n",
              "    </tr>\n",
              "    <tr>\n",
              "      <th>world</th>\n",
              "      <td>2.724749</td>\n",
              "    </tr>\n",
              "    <tr>\n",
              "      <th>market</th>\n",
              "      <td>2.781907</td>\n",
              "    </tr>\n",
              "    <tr>\n",
              "      <th>country</th>\n",
              "      <td>2.781907</td>\n",
              "    </tr>\n",
              "    <tr>\n",
              "      <th>second</th>\n",
              "      <td>2.907070</td>\n",
              "    </tr>\n",
              "    <tr>\n",
              "      <th>service</th>\n",
              "      <td>2.976063</td>\n",
              "    </tr>\n",
              "    <tr>\n",
              "      <th>said</th>\n",
              "      <td>2.976063</td>\n",
              "    </tr>\n",
              "    <tr>\n",
              "      <th>year</th>\n",
              "      <td>2.976063</td>\n",
              "    </tr>\n",
              "    <tr>\n",
              "      <th>facebook</th>\n",
              "      <td>3.050171</td>\n",
              "    </tr>\n",
              "    <tr>\n",
              "      <th>million</th>\n",
              "      <td>3.050171</td>\n",
              "    </tr>\n",
              "    <tr>\n",
              "      <th>announced</th>\n",
              "      <td>3.130214</td>\n",
              "    </tr>\n",
              "    <tr>\n",
              "      <th>indian</th>\n",
              "      <td>3.130214</td>\n",
              "    </tr>\n",
              "    <tr>\n",
              "      <th>wa</th>\n",
              "      <td>3.130214</td>\n",
              "    </tr>\n",
              "    <tr>\n",
              "      <th>time</th>\n",
              "      <td>3.217225</td>\n",
              "    </tr>\n",
              "    <tr>\n",
              "      <th>one</th>\n",
              "      <td>3.217225</td>\n",
              "    </tr>\n",
              "    <tr>\n",
              "      <th>amazon</th>\n",
              "      <td>3.312535</td>\n",
              "    </tr>\n",
              "    <tr>\n",
              "      <th>internet</th>\n",
              "      <td>3.312535</td>\n",
              "    </tr>\n",
              "    <tr>\n",
              "      <th>coronavirus</th>\n",
              "      <td>3.312535</td>\n",
              "    </tr>\n",
              "    <tr>\n",
              "      <th>giant</th>\n",
              "      <td>3.417896</td>\n",
              "    </tr>\n",
              "    <tr>\n",
              "      <th>app</th>\n",
              "      <td>3.417896</td>\n",
              "    </tr>\n",
              "    <tr>\n",
              "      <th>week</th>\n",
              "      <td>3.417896</td>\n",
              "    </tr>\n",
              "    <tr>\n",
              "      <th>startup</th>\n",
              "      <td>3.417896</td>\n",
              "    </tr>\n",
              "    <tr>\n",
              "      <th>image</th>\n",
              "      <td>3.417896</td>\n",
              "    </tr>\n",
              "    <tr>\n",
              "      <th>smartphone</th>\n",
              "      <td>3.417896</td>\n",
              "    </tr>\n",
              "    <tr>\n",
              "      <th>user</th>\n",
              "      <td>3.417896</td>\n",
              "    </tr>\n",
              "    <tr>\n",
              "      <th>video</th>\n",
              "      <td>3.535679</td>\n",
              "    </tr>\n",
              "    <tr>\n",
              "      <th>platform</th>\n",
              "      <td>3.535679</td>\n",
              "    </tr>\n",
              "    <tr>\n",
              "      <th>last</th>\n",
              "      <td>3.535679</td>\n",
              "    </tr>\n",
              "    <tr>\n",
              "      <th>apps</th>\n",
              "      <td>3.535679</td>\n",
              "    </tr>\n",
              "    <tr>\n",
              "      <th>today</th>\n",
              "      <td>3.535679</td>\n",
              "    </tr>\n",
              "    <tr>\n",
              "      <th>american</th>\n",
              "      <td>3.669210</td>\n",
              "    </tr>\n",
              "    <tr>\n",
              "      <th>launch</th>\n",
              "      <td>3.669210</td>\n",
              "    </tr>\n",
              "    <tr>\n",
              "      <th>first</th>\n",
              "      <td>3.669210</td>\n",
              "    </tr>\n",
              "    <tr>\n",
              "      <th>look</th>\n",
              "      <td>3.669210</td>\n",
              "    </tr>\n",
              "    <tr>\n",
              "      <th>tiktok</th>\n",
              "      <td>3.669210</td>\n",
              "    </tr>\n",
              "    <tr>\n",
              "      <th>billion</th>\n",
              "      <td>3.669210</td>\n",
              "    </tr>\n",
              "  </tbody>\n",
              "</table>\n",
              "</div>"
            ],
            "text/plain": [
              "             idf_weights\n",
              "char            1.009950\n",
              "india           1.258412\n",
              "ha              1.853920\n",
              "new             2.619388\n",
              "largest         2.670682\n",
              "world           2.724749\n",
              "market          2.781907\n",
              "country         2.781907\n",
              "second          2.907070\n",
              "service         2.976063\n",
              "said            2.976063\n",
              "year            2.976063\n",
              "facebook        3.050171\n",
              "million         3.050171\n",
              "announced       3.130214\n",
              "indian          3.130214\n",
              "wa              3.130214\n",
              "time            3.217225\n",
              "one             3.217225\n",
              "amazon          3.312535\n",
              "internet        3.312535\n",
              "coronavirus     3.312535\n",
              "giant           3.417896\n",
              "app             3.417896\n",
              "week            3.417896\n",
              "startup         3.417896\n",
              "image           3.417896\n",
              "smartphone      3.417896\n",
              "user            3.417896\n",
              "video           3.535679\n",
              "platform        3.535679\n",
              "last            3.535679\n",
              "apps            3.535679\n",
              "today           3.535679\n",
              "american        3.669210\n",
              "launch          3.669210\n",
              "first           3.669210\n",
              "look            3.669210\n",
              "tiktok          3.669210\n",
              "billion         3.669210"
            ]
          },
          "metadata": {
            "tags": []
          },
          "execution_count": 22
        }
      ]
    },
    {
      "cell_type": "code",
      "metadata": {
        "colab": {
          "base_uri": "https://localhost:8080/",
          "height": 1000
        },
        "id": "8zv1rytO8k7f",
        "outputId": "bbcbb983-4641-4f5e-a1a4-be7b3e9fb65c"
      },
      "source": [
        "tf_idf_vector=tfidf_transformer.transform(word_count)\n",
        "feature_names = doc.get_feature_names()\n",
        "first_document_vector=tf_idf_vector[1]\n",
        "df = pd.DataFrame(first_document_vector.T.todense(), index=feature_names, columns=[\"tfidf\"])\n",
        "df.sort_values(by=[\"tfidf\"],ascending=False).head(45)"
      ],
      "execution_count": 23,
      "outputs": [
        {
          "output_type": "execute_result",
          "data": {
            "text/html": [
              "<div>\n",
              "<style scoped>\n",
              "    .dataframe tbody tr th:only-of-type {\n",
              "        vertical-align: middle;\n",
              "    }\n",
              "\n",
              "    .dataframe tbody tr th {\n",
              "        vertical-align: top;\n",
              "    }\n",
              "\n",
              "    .dataframe thead th {\n",
              "        text-align: right;\n",
              "    }\n",
              "</style>\n",
              "<table border=\"1\" class=\"dataframe\">\n",
              "  <thead>\n",
              "    <tr style=\"text-align: right;\">\n",
              "      <th></th>\n",
              "      <th>tfidf</th>\n",
              "    </tr>\n",
              "  </thead>\n",
              "  <tbody>\n",
              "    <tr>\n",
              "      <th>mobile</th>\n",
              "      <td>0.491242</td>\n",
              "    </tr>\n",
              "    <tr>\n",
              "      <th>video</th>\n",
              "      <td>0.433602</td>\n",
              "    </tr>\n",
              "    <tr>\n",
              "      <th>prime</th>\n",
              "      <td>0.369258</td>\n",
              "    </tr>\n",
              "    <tr>\n",
              "      <th>carrier</th>\n",
              "      <td>0.201204</td>\n",
              "    </tr>\n",
              "    <tr>\n",
              "      <th>teaming</th>\n",
              "      <td>0.201204</td>\n",
              "    </tr>\n",
              "    <tr>\n",
              "      <th>variety</th>\n",
              "      <td>0.201204</td>\n",
              "    </tr>\n",
              "    <tr>\n",
              "      <th>bharti</th>\n",
              "      <td>0.201204</td>\n",
              "    </tr>\n",
              "    <tr>\n",
              "      <th>bolt</th>\n",
              "      <td>0.201204</td>\n",
              "    </tr>\n",
              "    <tr>\n",
              "      <th>nu</th>\n",
              "      <td>0.201204</td>\n",
              "    </tr>\n",
              "    <tr>\n",
              "      <th>airtel</th>\n",
              "      <td>0.201204</td>\n",
              "    </tr>\n",
              "    <tr>\n",
              "      <th>edition</th>\n",
              "      <td>0.201204</td>\n",
              "    </tr>\n",
              "    <tr>\n",
              "      <th>report</th>\n",
              "      <td>0.156294</td>\n",
              "    </tr>\n",
              "    <tr>\n",
              "      <th>launch</th>\n",
              "      <td>0.149993</td>\n",
              "    </tr>\n",
              "    <tr>\n",
              "      <th>amazon</th>\n",
              "      <td>0.135412</td>\n",
              "    </tr>\n",
              "    <tr>\n",
              "      <th>service</th>\n",
              "      <td>0.121658</td>\n",
              "    </tr>\n",
              "    <tr>\n",
              "      <th>second</th>\n",
              "      <td>0.118837</td>\n",
              "    </tr>\n",
              "    <tr>\n",
              "      <th>largest</th>\n",
              "      <td>0.109174</td>\n",
              "    </tr>\n",
              "    <tr>\n",
              "      <th>india</th>\n",
              "      <td>0.051442</td>\n",
              "    </tr>\n",
              "    <tr>\n",
              "      <th>char</th>\n",
              "      <td>0.041285</td>\n",
              "    </tr>\n",
              "    <tr>\n",
              "      <th>pleading</th>\n",
              "      <td>0.000000</td>\n",
              "    </tr>\n",
              "    <tr>\n",
              "      <th>playstation</th>\n",
              "      <td>0.000000</td>\n",
              "    </tr>\n",
              "    <tr>\n",
              "      <th>paper</th>\n",
              "      <td>0.000000</td>\n",
              "    </tr>\n",
              "    <tr>\n",
              "      <th>played</th>\n",
              "      <td>0.000000</td>\n",
              "    </tr>\n",
              "    <tr>\n",
              "      <th>plunge</th>\n",
              "      <td>0.000000</td>\n",
              "    </tr>\n",
              "    <tr>\n",
              "      <th>outdoors</th>\n",
              "      <td>0.000000</td>\n",
              "    </tr>\n",
              "    <tr>\n",
              "      <th>platform</th>\n",
              "      <td>0.000000</td>\n",
              "    </tr>\n",
              "    <tr>\n",
              "      <th>plant</th>\n",
              "      <td>0.000000</td>\n",
              "    </tr>\n",
              "    <tr>\n",
              "      <th>overseas</th>\n",
              "      <td>0.000000</td>\n",
              "    </tr>\n",
              "    <tr>\n",
              "      <th>plenty</th>\n",
              "      <td>0.000000</td>\n",
              "    </tr>\n",
              "    <tr>\n",
              "      <th>poetic</th>\n",
              "      <td>0.000000</td>\n",
              "    </tr>\n",
              "    <tr>\n",
              "      <th>podcast</th>\n",
              "      <td>0.000000</td>\n",
              "    </tr>\n",
              "    <tr>\n",
              "      <th>plan</th>\n",
              "      <td>0.000000</td>\n",
              "    </tr>\n",
              "    <tr>\n",
              "      <th>policy</th>\n",
              "      <td>0.000000</td>\n",
              "    </tr>\n",
              "    <tr>\n",
              "      <th>political</th>\n",
              "      <td>0.000000</td>\n",
              "    </tr>\n",
              "    <tr>\n",
              "      <th>politics</th>\n",
              "      <td>0.000000</td>\n",
              "    </tr>\n",
              "    <tr>\n",
              "      <th>pollution</th>\n",
              "      <td>0.000000</td>\n",
              "    </tr>\n",
              "    <tr>\n",
              "      <th>pop</th>\n",
              "      <td>0.000000</td>\n",
              "    </tr>\n",
              "    <tr>\n",
              "      <th>popular</th>\n",
              "      <td>0.000000</td>\n",
              "    </tr>\n",
              "    <tr>\n",
              "      <th>popularity</th>\n",
              "      <td>0.000000</td>\n",
              "    </tr>\n",
              "    <tr>\n",
              "      <th>populated</th>\n",
              "      <td>0.000000</td>\n",
              "    </tr>\n",
              "    <tr>\n",
              "      <th>pose</th>\n",
              "      <td>0.000000</td>\n",
              "    </tr>\n",
              "    <tr>\n",
              "      <th>position</th>\n",
              "      <td>0.000000</td>\n",
              "    </tr>\n",
              "    <tr>\n",
              "      <th>post</th>\n",
              "      <td>0.000000</td>\n",
              "    </tr>\n",
              "    <tr>\n",
              "      <th>posted</th>\n",
              "      <td>0.000000</td>\n",
              "    </tr>\n",
              "    <tr>\n",
              "      <th>postponed</th>\n",
              "      <td>0.000000</td>\n",
              "    </tr>\n",
              "  </tbody>\n",
              "</table>\n",
              "</div>"
            ],
            "text/plain": [
              "                tfidf\n",
              "mobile       0.491242\n",
              "video        0.433602\n",
              "prime        0.369258\n",
              "carrier      0.201204\n",
              "teaming      0.201204\n",
              "variety      0.201204\n",
              "bharti       0.201204\n",
              "bolt         0.201204\n",
              "nu           0.201204\n",
              "airtel       0.201204\n",
              "edition      0.201204\n",
              "report       0.156294\n",
              "launch       0.149993\n",
              "amazon       0.135412\n",
              "service      0.121658\n",
              "second       0.118837\n",
              "largest      0.109174\n",
              "india        0.051442\n",
              "char         0.041285\n",
              "pleading     0.000000\n",
              "playstation  0.000000\n",
              "paper        0.000000\n",
              "played       0.000000\n",
              "plunge       0.000000\n",
              "outdoors     0.000000\n",
              "platform     0.000000\n",
              "plant        0.000000\n",
              "overseas     0.000000\n",
              "plenty       0.000000\n",
              "poetic       0.000000\n",
              "podcast      0.000000\n",
              "plan         0.000000\n",
              "policy       0.000000\n",
              "political    0.000000\n",
              "politics     0.000000\n",
              "pollution    0.000000\n",
              "pop          0.000000\n",
              "popular      0.000000\n",
              "popularity   0.000000\n",
              "populated    0.000000\n",
              "pose         0.000000\n",
              "position     0.000000\n",
              "post         0.000000\n",
              "posted       0.000000\n",
              "postponed    0.000000"
            ]
          },
          "metadata": {
            "tags": []
          },
          "execution_count": 23
        }
      ]
    },
    {
      "cell_type": "code",
      "metadata": {
        "colab": {
          "base_uri": "https://localhost:8080/"
        },
        "id": "4-PZPo3f82UP",
        "outputId": "783eb7b1-87f5-4174-a194-a484c2981453"
      },
      "source": [
        "tf_idf_vector"
      ],
      "execution_count": 24,
      "outputs": [
        {
          "output_type": "execute_result",
          "data": {
            "text/plain": [
              "<100x1064 sparse matrix of type '<class 'numpy.float64'>'\n",
              "\twith 2028 stored elements in Compressed Sparse Row format>"
            ]
          },
          "metadata": {
            "tags": []
          },
          "execution_count": 24
        }
      ]
    },
    {
      "cell_type": "code",
      "metadata": {
        "colab": {
          "base_uri": "https://localhost:8080/"
        },
        "id": "zdR2Gw489DCr",
        "outputId": "9f8189d9-d44b-44db-9a3f-a5e65082c96c"
      },
      "source": [
        "print(tf_idf_vector.shape)"
      ],
      "execution_count": 25,
      "outputs": [
        {
          "output_type": "stream",
          "text": [
            "(100, 1064)\n"
          ],
          "name": "stdout"
        }
      ]
    },
    {
      "cell_type": "code",
      "metadata": {
        "id": "HVBFx-Tc9leE"
      },
      "source": [
        "from sklearn.metrics.pairwise import cosine_similarity\n",
        "dist = 1 - cosine_similarity(tf_idf_vector)"
      ],
      "execution_count": 26,
      "outputs": []
    },
    {
      "cell_type": "code",
      "metadata": {
        "colab": {
          "base_uri": "https://localhost:8080/",
          "height": 1000
        },
        "id": "5zx5CNv29yTR",
        "outputId": "7dc95f8f-7f9d-47a8-8854-e0f02d0074cf"
      },
      "source": [
        "from scipy.cluster.hierarchy import ward, dendrogram\n",
        "\n",
        "linkage_matrix = ward(dist) #define the linkage_matrix using ward clustering pre-computed distances\n",
        "\n",
        "fig, ax = plt.subplots(figsize=(15, 20)) # set size\n",
        "ax = dendrogram(linkage_matrix, orientation=\"right\", labels=titles);\n",
        "\n",
        "plt.tick_params(\\\n",
        "    axis= 'x',          # changes apply to the x-axis\n",
        "    which='both',      # both major and minor ticks are affected\n",
        "    bottom='off',      # ticks along the bottom edge are off\n",
        "    top='off',         # ticks along the top edge are off\n",
        "    labelbottom='off')\n",
        "\n",
        "plt.tight_layout() #show plot with tight layout\n",
        "\n",
        "#uncomment below to save figure\n",
        "plt.savefig('ward_clusters.png', dpi=200) #save figure as ward_clusters"
      ],
      "execution_count": 27,
      "outputs": [
        {
          "output_type": "display_data",
          "data": {
            "image/png": "[encoded data removed]",
            "text/plain": [
              "<Figure size 1080x1440 with 1 Axes>"
            ]
          },
          "metadata": {
            "tags": [],
            "needs_background": "light"
          }
        }
      ]
    },
    {
      "cell_type": "code",
      "metadata": {
        "colab": {
          "base_uri": "https://localhost:8080/"
        },
        "id": "VHUY-PVxpesm",
        "outputId": "33366dce-cc6a-4fc7-8c89-0822b150a568"
      },
      "source": [
        "from scipy.cluster.hierarchy import fcluster\n",
        "\n",
        "# hand-select an appropriate cut-off on the dendrogram\n",
        "cluster_labels = fcluster(linkage_matrix, 2, criterion='distance')\n",
        "print(np.unique(cluster_labels))\n",
        "cluster_labels = fcluster(linkage_matrix, 2.5, criterion='distance')\n",
        "print(np.unique(cluster_labels))"
      ],
      "execution_count": 48,
      "outputs": [
        {
          "output_type": "stream",
          "text": [
            "[1 2 3 4 5]\n",
            "[1 2]\n"
          ],
          "name": "stdout"
        }
      ]
    }
  ]
}