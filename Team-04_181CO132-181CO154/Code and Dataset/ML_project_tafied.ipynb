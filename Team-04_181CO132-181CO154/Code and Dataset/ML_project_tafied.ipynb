{
  "nbformat": 4,
  "nbformat_minor": 0,
  "metadata": {
    "colab": {
      "name": "ML_project_tafied.ipynb",
      "provenance": [],
      "collapsed_sections": []
    },
    "kernelspec": {
      "name": "python3",
      "display_name": "Python 3"
    },
    "language_info": {
      "name": "python"
    }
  },
  "cells": [
    {
      "cell_type": "markdown",
      "metadata": {
        "id": "9R_c4N_uomgc"
      },
      "source": [
        "# TAFIED Algorithm Implementation\n",
        "# Submitted by:-\n",
        "# Mayur Bhat(181CO132)\n",
        "#Sukruth N Bhat(181CO154)"
      ]
    },
    {
      "cell_type": "code",
      "metadata": {
        "id": "qlPtSveqUsjL"
      },
      "source": [
        "import numpy as np\n",
        "import pandas as pd \n",
        "import nltk\n",
        "import re\n",
        "import string\n",
        "import scipy.sparse as sp\n",
        "import matplotlib.pyplot as plt\n",
        "from sklearn.preprocessing import normalize"
      ],
      "execution_count": 73,
      "outputs": []
    },
    {
      "cell_type": "code",
      "metadata": {
        "id": "mo5hWtSjU5R_",
        "colab": {
          "base_uri": "https://localhost:8080/"
        },
        "outputId": "c887ef29-e822-4deb-e9d4-0f67b8bcc6bf"
      },
      "source": [
        "from google.colab import drive\n",
        "\n",
        "drive.mount('/content/gdrive')"
      ],
      "execution_count": 74,
      "outputs": [
        {
          "output_type": "stream",
          "text": [
            "Drive already mounted at /content/gdrive; to attempt to forcibly remount, call drive.mount(\"/content/gdrive\", force_remount=True).\n"
          ],
          "name": "stdout"
        }
      ]
    },
    {
      "cell_type": "code",
      "metadata": {
        "id": "xDKqqKOtVJVM"
      },
      "source": [
        "raw_articles_data = pd.read_excel('/content/gdrive/MyDrive/data/news_dataset.xlsx')"
      ],
      "execution_count": 75,
      "outputs": []
    },
    {
      "cell_type": "code",
      "metadata": {
        "id": "lTRY_dXFV7gh",
        "colab": {
          "base_uri": "https://localhost:8080/",
          "height": 1000
        },
        "outputId": "30f2b6a3-f2ee-4c29-ca0d-29e81b9f0ba8"
      },
      "source": [
        "raw_articles_data"
      ],
      "execution_count": 76,
      "outputs": [
        {
          "output_type": "execute_result",
          "data": {
            "text/html": [
              "<div>\n",
              "<style scoped>\n",
              "    .dataframe tbody tr th:only-of-type {\n",
              "        vertical-align: middle;\n",
              "    }\n",
              "\n",
              "    .dataframe tbody tr th {\n",
              "        vertical-align: top;\n",
              "    }\n",
              "\n",
              "    .dataframe thead th {\n",
              "        text-align: right;\n",
              "    }\n",
              "</style>\n",
              "<table border=\"1\" class=\"dataframe\">\n",
              "  <thead>\n",
              "    <tr style=\"text-align: right;\">\n",
              "      <th></th>\n",
              "      <th>Unnamed: 0</th>\n",
              "      <th>source</th>\n",
              "      <th>author</th>\n",
              "      <th>title</th>\n",
              "      <th>description</th>\n",
              "      <th>url</th>\n",
              "      <th>urlToImage</th>\n",
              "      <th>publishedAt</th>\n",
              "      <th>content</th>\n",
              "    </tr>\n",
              "  </thead>\n",
              "  <tbody>\n",
              "    <tr>\n",
              "      <th>0</th>\n",
              "      <td>0</td>\n",
              "      <td>{'id': 'the-verge', 'name': 'The Verge'}</td>\n",
              "      <td>Jon Porter</td>\n",
              "      <td>Twitter’s voice DMs arrive in India</td>\n",
              "      <td>Twitter has rolled out support for voice DMs o...</td>\n",
              "      <td>https://www.theverge.com/2021/2/17/22287091/tw...</td>\n",
              "      <td>https://cdn.vox-cdn.com/thumbor/31wcDz-dd7XKS5...</td>\n",
              "      <td>2021-02-17T13:18:32Z</td>\n",
              "      <td>For when theres just way too much to type\\r\\nI...</td>\n",
              "    </tr>\n",
              "    <tr>\n",
              "      <th>1</th>\n",
              "      <td>1</td>\n",
              "      <td>{'id': 'engadget', 'name': 'Engadget'}</td>\n",
              "      <td>Daniel Cooper</td>\n",
              "      <td>Amazon follows Netflix with mobile-only video ...</td>\n",
              "      <td>Amazon Prime Video and Bharti Airtel, India’s ...</td>\n",
              "      <td>https://www.engadget.com/amazon-prime-video-mo...</td>\n",
              "      <td>https://o.aolcdn.com/images/dims?resize=1200%2...</td>\n",
              "      <td>2021-01-13T11:15:31Z</td>\n",
              "      <td>Amazon Prime Video and Bharti Airtel, India’s ...</td>\n",
              "    </tr>\n",
              "    <tr>\n",
              "      <th>2</th>\n",
              "      <td>2</td>\n",
              "      <td>{'id': 'techcrunch', 'name': 'TechCrunch'}</td>\n",
              "      <td>Manish Singh</td>\n",
              "      <td>India bans PUBG and over 100 additional Chines...</td>\n",
              "      <td>India has banned more than 100 additional Chin...</td>\n",
              "      <td>http://techcrunch.com/2020/09/02/india-bans-pu...</td>\n",
              "      <td>https://techcrunch.com/wp-content/uploads/2020...</td>\n",
              "      <td>2020-09-02T12:02:29Z</td>\n",
              "      <td>India has banned more than 100 additional apps...</td>\n",
              "    </tr>\n",
              "    <tr>\n",
              "      <th>3</th>\n",
              "      <td>3</td>\n",
              "      <td>{'id': 'engadget', 'name': 'Engadget'}</td>\n",
              "      <td>Steve Dent</td>\n",
              "      <td>Samsung begins offering support requests via W...</td>\n",
              "      <td>With the COVID-19 crisis continuing unabated i...</td>\n",
              "      <td>https://www.engadget.com/samsung-whatsapp-smar...</td>\n",
              "      <td>https://o.aolcdn.com/images/dims?resize=1200%2...</td>\n",
              "      <td>2020-07-06T08:49:00Z</td>\n",
              "      <td>With the COVID-19 crisis continuing unabated i...</td>\n",
              "    </tr>\n",
              "    <tr>\n",
              "      <th>4</th>\n",
              "      <td>4</td>\n",
              "      <td>{'id': 'engadget', 'name': 'Engadget'}</td>\n",
              "      <td>Mariella Moon</td>\n",
              "      <td>Sony is launching the PS5 in India on February...</td>\n",
              "      <td>PlayStation gamers in India will finally have ...</td>\n",
              "      <td>https://www.engadget.com/sony-ps5-india-launch...</td>\n",
              "      <td>https://o.aolcdn.com/images/dims?resize=1200%2...</td>\n",
              "      <td>2021-01-01T09:05:35Z</td>\n",
              "      <td>PlayStation gamers in India will finally have ...</td>\n",
              "    </tr>\n",
              "    <tr>\n",
              "      <th>...</th>\n",
              "      <td>...</td>\n",
              "      <td>...</td>\n",
              "      <td>...</td>\n",
              "      <td>...</td>\n",
              "      <td>...</td>\n",
              "      <td>...</td>\n",
              "      <td>...</td>\n",
              "      <td>...</td>\n",
              "      <td>...</td>\n",
              "    </tr>\n",
              "    <tr>\n",
              "      <th>9895</th>\n",
              "      <td>9895</td>\n",
              "      <td>{'id': None, 'name': 'New York Times'}</td>\n",
              "      <td>Allyson Waller</td>\n",
              "      <td>A Cat Is Said to Be Joining the Bidens in the ...</td>\n",
              "      <td>The last cat to live in the White House, India...</td>\n",
              "      <td>https://www.nytimes.com/2020/11/28/us/Biden-ca...</td>\n",
              "      <td>https://static01.nyt.com/images/2020/11/28/mul...</td>\n",
              "      <td>2020-11-29T00:35:41Z</td>\n",
              "      <td>Jennifer Pickens, a White House historian and ...</td>\n",
              "    </tr>\n",
              "    <tr>\n",
              "      <th>9896</th>\n",
              "      <td>9896</td>\n",
              "      <td>{'id': 'reuters', 'name': 'Reuters'}</td>\n",
              "      <td>NaN</td>\n",
              "      <td>India this week - Reuters India</td>\n",
              "      <td>A policeman directs crowd at a railway station...</td>\n",
              "      <td>https://in.reuters.com/news/picture/india-this...</td>\n",
              "      <td>https://s4.reutersmedia.net/resources/r/?m=02&amp;...</td>\n",
              "      <td>2020-12-04T17:42:09Z</td>\n",
              "      <td>Reuters, the news and media division of Thomso...</td>\n",
              "    </tr>\n",
              "    <tr>\n",
              "      <th>9897</th>\n",
              "      <td>9897</td>\n",
              "      <td>{'id': None, 'name': 'BBC News'}</td>\n",
              "      <td>https://www.facebook.com/bbcnews</td>\n",
              "      <td>India extends coronavirus lockdown by two weeks</td>\n",
              "      <td>The country's major cities will remain under s...</td>\n",
              "      <td>https://www.bbc.com/news/world-asia-india-5269...</td>\n",
              "      <td>https://ichef.bbci.co.uk/news/1024/branded_new...</td>\n",
              "      <td>2020-05-17T14:48:13Z</td>\n",
              "      <td>Image copyrightGetty ImagesImage caption\\r\\n T...</td>\n",
              "    </tr>\n",
              "    <tr>\n",
              "      <th>9898</th>\n",
              "      <td>9898</td>\n",
              "      <td>{'id': 'bbc-news', 'name': 'BBC News'}</td>\n",
              "      <td>https://www.facebook.com/bbcnews</td>\n",
              "      <td>India coronavirus: Bihar braces for 'corona st...</td>\n",
              "      <td>Cases are rising fast in one of India's poores...</td>\n",
              "      <td>https://www.bbc.co.uk/news/world-asia-india-53...</td>\n",
              "      <td>https://ichef.bbci.co.uk/news/1024/branded_new...</td>\n",
              "      <td>2020-07-26T23:11:51Z</td>\n",
              "      <td>Image copyrightGetty ImagesImage caption\\r\\n B...</td>\n",
              "    </tr>\n",
              "    <tr>\n",
              "      <th>9899</th>\n",
              "      <td>9899</td>\n",
              "      <td>{'id': 'the-verge', 'name': 'The Verge'}</td>\n",
              "      <td>Kim Lyons</td>\n",
              "      <td>WhatsApp launches digital payments in Brazil a...</td>\n",
              "      <td>After testing a beta version in India, WhatsAp...</td>\n",
              "      <td>https://www.theverge.com/2020/6/15/21291382/wh...</td>\n",
              "      <td>https://cdn.vox-cdn.com/thumbor/WuOhvy0-dKnyWz...</td>\n",
              "      <td>2020-06-15T14:19:12Z</td>\n",
              "      <td>The payments are enabled by Facebook Pay \\r\\nW...</td>\n",
              "    </tr>\n",
              "  </tbody>\n",
              "</table>\n",
              "<p>9900 rows × 9 columns</p>\n",
              "</div>"
            ],
            "text/plain": [
              "      Unnamed: 0  ...                                            content\n",
              "0              0  ...  For when theres just way too much to type\\r\\nI...\n",
              "1              1  ...  Amazon Prime Video and Bharti Airtel, India’s ...\n",
              "2              2  ...  India has banned more than 100 additional apps...\n",
              "3              3  ...  With the COVID-19 crisis continuing unabated i...\n",
              "4              4  ...  PlayStation gamers in India will finally have ...\n",
              "...          ...  ...                                                ...\n",
              "9895        9895  ...  Jennifer Pickens, a White House historian and ...\n",
              "9896        9896  ...  Reuters, the news and media division of Thomso...\n",
              "9897        9897  ...  Image copyrightGetty ImagesImage caption\\r\\n T...\n",
              "9898        9898  ...  Image copyrightGetty ImagesImage caption\\r\\n B...\n",
              "9899        9899  ...  The payments are enabled by Facebook Pay \\r\\nW...\n",
              "\n",
              "[9900 rows x 9 columns]"
            ]
          },
          "metadata": {
            "tags": []
          },
          "execution_count": 76
        }
      ]
    },
    {
      "cell_type": "markdown",
      "metadata": {
        "id": "Jy25_rtOohfT"
      },
      "source": [
        "Dataset Preprocessing\n"
      ]
    },
    {
      "cell_type": "code",
      "metadata": {
        "id": "6L8ptywKWLFf"
      },
      "source": [
        "titles=[]\n",
        "dates=[]\n",
        "descriptions=[]\n",
        "contents=[]\n",
        "for index,item in raw_articles_data.iterrows():\n",
        "  titles.append(item['title'])\n",
        "  dates.append(item['publishedAt'])\n",
        "  descriptions.append(item['description'])\n",
        "  contents.append(item['content'])\n",
        "\n",
        "\n"
      ],
      "execution_count": 77,
      "outputs": []
    },
    {
      "cell_type": "code",
      "metadata": {
        "id": "kWTwSC3aasKz"
      },
      "source": [
        "dataset=pd.DataFrame({'title': titles, 'date': dates, 'desc': descriptions, 'content': contents})\n",
        "dataset=dataset.drop_duplicates(subset='title').reset_index(drop=True)\n",
        "dataset=dataset.dropna()"
      ],
      "execution_count": 78,
      "outputs": []
    },
    {
      "cell_type": "code",
      "metadata": {
        "id": "ILdn0xuDbZwx",
        "colab": {
          "base_uri": "https://localhost:8080/",
          "height": 195
        },
        "outputId": "3ae0d6f0-c922-45b1-ede0-0ac863ad2f54"
      },
      "source": [
        "dataset.head()"
      ],
      "execution_count": 79,
      "outputs": [
        {
          "output_type": "execute_result",
          "data": {
            "text/html": [
              "<div>\n",
              "<style scoped>\n",
              "    .dataframe tbody tr th:only-of-type {\n",
              "        vertical-align: middle;\n",
              "    }\n",
              "\n",
              "    .dataframe tbody tr th {\n",
              "        vertical-align: top;\n",
              "    }\n",
              "\n",
              "    .dataframe thead th {\n",
              "        text-align: right;\n",
              "    }\n",
              "</style>\n",
              "<table border=\"1\" class=\"dataframe\">\n",
              "  <thead>\n",
              "    <tr style=\"text-align: right;\">\n",
              "      <th></th>\n",
              "      <th>title</th>\n",
              "      <th>date</th>\n",
              "      <th>desc</th>\n",
              "      <th>content</th>\n",
              "    </tr>\n",
              "  </thead>\n",
              "  <tbody>\n",
              "    <tr>\n",
              "      <th>0</th>\n",
              "      <td>Twitter’s voice DMs arrive in India</td>\n",
              "      <td>2021-02-17T13:18:32Z</td>\n",
              "      <td>Twitter has rolled out support for voice DMs o...</td>\n",
              "      <td>For when theres just way too much to type\\r\\nI...</td>\n",
              "    </tr>\n",
              "    <tr>\n",
              "      <th>1</th>\n",
              "      <td>Amazon follows Netflix with mobile-only video ...</td>\n",
              "      <td>2021-01-13T11:15:31Z</td>\n",
              "      <td>Amazon Prime Video and Bharti Airtel, India’s ...</td>\n",
              "      <td>Amazon Prime Video and Bharti Airtel, India’s ...</td>\n",
              "    </tr>\n",
              "    <tr>\n",
              "      <th>2</th>\n",
              "      <td>India bans PUBG and over 100 additional Chines...</td>\n",
              "      <td>2020-09-02T12:02:29Z</td>\n",
              "      <td>India has banned more than 100 additional Chin...</td>\n",
              "      <td>India has banned more than 100 additional apps...</td>\n",
              "    </tr>\n",
              "    <tr>\n",
              "      <th>3</th>\n",
              "      <td>Samsung begins offering support requests via W...</td>\n",
              "      <td>2020-07-06T08:49:00Z</td>\n",
              "      <td>With the COVID-19 crisis continuing unabated i...</td>\n",
              "      <td>With the COVID-19 crisis continuing unabated i...</td>\n",
              "    </tr>\n",
              "    <tr>\n",
              "      <th>4</th>\n",
              "      <td>Sony is launching the PS5 in India on February...</td>\n",
              "      <td>2021-01-01T09:05:35Z</td>\n",
              "      <td>PlayStation gamers in India will finally have ...</td>\n",
              "      <td>PlayStation gamers in India will finally have ...</td>\n",
              "    </tr>\n",
              "  </tbody>\n",
              "</table>\n",
              "</div>"
            ],
            "text/plain": [
              "                                               title  ...                                            content\n",
              "0                Twitter’s voice DMs arrive in India  ...  For when theres just way too much to type\\r\\nI...\n",
              "1  Amazon follows Netflix with mobile-only video ...  ...  Amazon Prime Video and Bharti Airtel, India’s ...\n",
              "2  India bans PUBG and over 100 additional Chines...  ...  India has banned more than 100 additional apps...\n",
              "3  Samsung begins offering support requests via W...  ...  With the COVID-19 crisis continuing unabated i...\n",
              "4  Sony is launching the PS5 in India on February...  ...  PlayStation gamers in India will finally have ...\n",
              "\n",
              "[5 rows x 4 columns]"
            ]
          },
          "metadata": {
            "tags": []
          },
          "execution_count": 79
        }
      ]
    },
    {
      "cell_type": "code",
      "metadata": {
        "id": "yE7BZfK3iBDl",
        "colab": {
          "base_uri": "https://localhost:8080/"
        },
        "outputId": "a18d976b-544a-4a24-84bc-2ff0ed4cbb0f"
      },
      "source": [
        "dataset.shape"
      ],
      "execution_count": 80,
      "outputs": [
        {
          "output_type": "execute_result",
          "data": {
            "text/plain": [
              "(100, 4)"
            ]
          },
          "metadata": {
            "tags": []
          },
          "execution_count": 80
        }
      ]
    },
    {
      "cell_type": "code",
      "metadata": {
        "id": "D3z4-2zqmcM-"
      },
      "source": [
        "# Create function to process and tokenize raw texts\n",
        "def preprocess(text, stopwords={}, lemmatizer=nltk.stem.wordnet.WordNetLemmatizer()):\n",
        "    # Lower case\n",
        "    text = text.lower()\n",
        "    # Handle URL\n",
        "    text = re.sub(r\"https?://t.co/\\w{10}\",' ', text)\n",
        "    # Deal with \"'s\" \n",
        "    text = re.sub(r\"'s\", \"\", text)\n",
        "    # Deal with \"'\" \n",
        "    translator2 = str.maketrans({key: None for key in string.punctuation[6]})\n",
        "    text = text.translate(translator2) \n",
        "    # Deal with the rest of punctuations\n",
        "    translator3 = str.maketrans(string.punctuation, ' '*len(string.punctuation))\n",
        "    text = text.translate(translator3)\n",
        "    # Handle unicode\n",
        "    text = re.sub(r'[^\\x00-\\x7F]+',' ', text)\n",
        "    # Split the text\n",
        "    r1 = nltk.word_tokenize(text)\n",
        "    # Lemmatize the text\n",
        "    r2 = [lemmatizer.lemmatize(word) for word in r1]\n",
        "    # Remove the stopwords\n",
        "    r3 = [word for word in r2 if not word in stopwords]\n",
        "    # Remove digits\n",
        "    r4 = [word for word in r3 if word.isalpha()]\n",
        "    return r4"
      ],
      "execution_count": 81,
      "outputs": []
    },
    {
      "cell_type": "code",
      "metadata": {
        "id": "JORm7fILmd_9",
        "colab": {
          "base_uri": "https://localhost:8080/"
        },
        "outputId": "1827320e-73cc-4adc-bbea-0e99c652a451"
      },
      "source": [
        "# Import NLTK stopwords\n",
        "nltk.download('stopwords')\n",
        "nltk.download('wordnet')\n",
        "nltk.download('punkt')\n",
        "extra_stopwords = set()\n",
        "stopwords = set(nltk.corpus.stopwords.words('english')) | extra_stopwords"
      ],
      "execution_count": 82,
      "outputs": [
        {
          "output_type": "stream",
          "text": [
            "[nltk_data] Downloading package stopwords to /root/nltk_data...\n",
            "[nltk_data]   Package stopwords is already up-to-date!\n",
            "[nltk_data] Downloading package wordnet to /root/nltk_data...\n",
            "[nltk_data]   Package wordnet is already up-to-date!\n",
            "[nltk_data] Downloading package punkt to /root/nltk_data...\n",
            "[nltk_data]   Package punkt is already up-to-date!\n"
          ],
          "name": "stdout"
        }
      ]
    },
    {
      "cell_type": "code",
      "metadata": {
        "id": "kxoxxcJQnBEB"
      },
      "source": [
        "# Put the preprocessed texts into a list\n",
        "articles = []\n",
        "from collections import defaultdict\n",
        "import math\n",
        "\n",
        "DF = defaultdict(int) \n",
        "for i in range(0,dataset.shape[0]):\n",
        "    tokenized_text = preprocess(dataset['content'][i], stopwords)\n",
        "    words = tokenized_text\n",
        "    for word in set(words):\n",
        "        if len(word) >= 3 and word.isalpha():\n",
        "            DF[word] += 1\n",
        "    articles.append(' '.join(tokenized_text))"
      ],
      "execution_count": 83,
      "outputs": []
    },
    {
      "cell_type": "code",
      "metadata": {
        "id": "Yz0dQf9Nq9iB"
      },
      "source": [
        "def cluster_centroids(DF, gt=0.1, to=100):\n",
        "  centroids=[];\n",
        "  for x, y in DF.items():\n",
        "    z=y/to\n",
        "    if z>gt:\n",
        "      centroids.append(x)\n",
        "  return centroids\n"
      ],
      "execution_count": 84,
      "outputs": []
    },
    {
      "cell_type": "code",
      "metadata": {
        "id": "d65u5-E5wUPv"
      },
      "source": [
        "centroids=cluster_centroids(DF)"
      ],
      "execution_count": 85,
      "outputs": []
    },
    {
      "cell_type": "code",
      "metadata": {
        "id": "037Exikgwcz7",
        "colab": {
          "base_uri": "https://localhost:8080/"
        },
        "outputId": "6a5d88fe-a54e-42d1-fcb6-6141b289ecb7"
      },
      "source": [
        "centroids"
      ],
      "execution_count": 86,
      "outputs": [
        {
          "output_type": "execute_result",
          "data": {
            "text/plain": [
              "['india',\n",
              " 'char',\n",
              " 'second',\n",
              " 'largest',\n",
              " 'service',\n",
              " 'new',\n",
              " 'announced',\n",
              " 'market',\n",
              " 'facebook',\n",
              " 'world',\n",
              " 'said',\n",
              " 'country',\n",
              " 'year',\n",
              " 'million',\n",
              " 'indian']"
            ]
          },
          "metadata": {
            "tags": []
          },
          "execution_count": 86
        }
      ]
    },
    {
      "cell_type": "code",
      "metadata": {
        "id": "MdT4wlEqxH7i",
        "colab": {
          "base_uri": "https://localhost:8080/"
        },
        "outputId": "6b3f86d6-528b-4538-db27-d95be551074f"
      },
      "source": [
        "len(centroids)"
      ],
      "execution_count": 87,
      "outputs": [
        {
          "output_type": "execute_result",
          "data": {
            "text/plain": [
              "15"
            ]
          },
          "metadata": {
            "tags": []
          },
          "execution_count": 87
        }
      ]
    },
    {
      "cell_type": "code",
      "metadata": {
        "id": "4TGxFoJe3qxb"
      },
      "source": [
        "#Cluster initialization \n",
        "def cluster_in_table(centroids,article_check):\n",
        "  clusters=set()\n",
        "  words=article_check;\n",
        "  for word in words:\n",
        "   for i in range(len(centroids)):\n",
        "    #  print(i)\n",
        "     if centroids[i]==word:\n",
        "       clusters.add(i)\n",
        "\n",
        "  if(len(clusters)==0):\n",
        "    clusters.add(0)\n",
        "  final_cluster=[]\n",
        "  for i in clusters:\n",
        "    final_cluster.append(i)\n",
        "\n",
        "  return final_cluster\n",
        "\n",
        "\n"
      ],
      "execution_count": 88,
      "outputs": []
    },
    {
      "cell_type": "code",
      "metadata": {
        "id": "Fa9uwYqLBMc8"
      },
      "source": [
        "cluster_table=[]\n",
        "for i in range(0,dataset.shape[0]):\n",
        "  tokenized_text = preprocess(dataset['content'][i], stopwords)\n",
        "  clusters =cluster_in_table(centroids,tokenized_text)\n",
        "  cluster_table.append(clusters)"
      ],
      "execution_count": 89,
      "outputs": []
    },
    {
      "cell_type": "code",
      "metadata": {
        "id": "JbU-j2VCB20d",
        "colab": {
          "base_uri": "https://localhost:8080/"
        },
        "outputId": "5d961c10-158e-445a-c078-16c76dec87c4"
      },
      "source": [
        "cluster_table"
      ],
      "execution_count": 90,
      "outputs": [
        {
          "output_type": "execute_result",
          "data": {
            "text/plain": [
              "[[0, 1],\n",
              " [0, 1, 2, 3, 4],\n",
              " [0, 1],\n",
              " [0, 1],\n",
              " [0, 1, 5, 6],\n",
              " [0, 1, 2, 3, 5, 7, 8, 9],\n",
              " [0, 1, 10],\n",
              " [1],\n",
              " [0, 1, 10, 11],\n",
              " [0, 1, 4, 10, 11],\n",
              " [0, 1, 11],\n",
              " [0, 1, 2, 3, 7, 9, 12],\n",
              " [0, 1, 11],\n",
              " [0, 1, 12, 13],\n",
              " [0, 1, 5, 11, 13],\n",
              " [0, 1],\n",
              " [0, 1, 8, 11, 12, 13],\n",
              " [1, 12, 14, 7],\n",
              " [8, 0, 1],\n",
              " [0, 1, 2, 3, 7, 9],\n",
              " [0, 1, 10, 7],\n",
              " [0, 1, 2, 3, 4, 7, 9, 13],\n",
              " [0, 1, 2, 3, 6, 11],\n",
              " [0, 1, 3],\n",
              " [0, 1, 2, 3, 7, 9, 12],\n",
              " [0, 9, 1],\n",
              " [0, 9, 12, 1],\n",
              " [0, 1, 5],\n",
              " [0, 1, 12, 14],\n",
              " [0, 1, 2, 3, 5, 9, 10, 13],\n",
              " [0, 1],\n",
              " [0, 1, 2, 3, 4, 5, 6, 7, 9],\n",
              " [0, 1, 4, 13],\n",
              " [0, 1, 4, 7, 12],\n",
              " [1],\n",
              " [0, 1, 3, 4, 5, 6],\n",
              " [0, 1],\n",
              " [0, 1, 13, 7],\n",
              " [8, 0, 1, 7],\n",
              " [0, 1, 3, 4, 5],\n",
              " [1, 5, 10, 13],\n",
              " [0, 1, 6],\n",
              " [1, 11, 14],\n",
              " [1, 10, 13],\n",
              " [0, 1, 6, 7],\n",
              " [0, 9, 1],\n",
              " [0, 1, 6],\n",
              " [0, 1],\n",
              " [8, 1],\n",
              " [0, 8, 10, 1],\n",
              " [0, 1, 4, 5],\n",
              " [0, 1, 2, 3, 7, 9, 12],\n",
              " [1, 13, 14],\n",
              " [0, 1, 10, 12, 13],\n",
              " [0, 1, 5],\n",
              " [0, 1],\n",
              " [0, 1, 5],\n",
              " [1],\n",
              " [1],\n",
              " [0, 1, 11, 14],\n",
              " [0, 1, 11],\n",
              " [0, 1, 2, 7, 9, 10, 14],\n",
              " [8, 0, 11, 1],\n",
              " [0, 1, 2, 3, 4, 7, 9, 12],\n",
              " [0, 1, 2, 3, 4, 9],\n",
              " [0, 1, 3, 6, 10],\n",
              " [0, 1, 10],\n",
              " [0, 1, 5, 6],\n",
              " [8, 0, 11, 1],\n",
              " [0, 1, 2, 3, 7, 9],\n",
              " [0, 1, 5],\n",
              " [1, 11, 5],\n",
              " [0, 1],\n",
              " [8, 1, 12, 14],\n",
              " [1],\n",
              " [8, 1],\n",
              " [1, 4],\n",
              " [1, 5],\n",
              " [0, 1, 14],\n",
              " [0, 1, 4, 5],\n",
              " [0, 1],\n",
              " [0, 1, 11, 5],\n",
              " [0, 1],\n",
              " [0, 1],\n",
              " [8, 9],\n",
              " [0, 1],\n",
              " [0, 1, 13],\n",
              " [1, 14],\n",
              " [1],\n",
              " [0, 1],\n",
              " [0, 1],\n",
              " [0, 1, 11, 14],\n",
              " [1, 14],\n",
              " [0, 1, 5, 6, 11],\n",
              " [0, 1],\n",
              " [1, 10, 12],\n",
              " [9, 3, 1],\n",
              " [0, 1],\n",
              " [1],\n",
              " [8, 0, 6, 1]]"
            ]
          },
          "metadata": {
            "tags": []
          },
          "execution_count": 90
        }
      ]
    },
    {
      "cell_type": "code",
      "metadata": {
        "id": "fGS0QRZyCCwV",
        "colab": {
          "base_uri": "https://localhost:8080/"
        },
        "outputId": "67a746f6-22e4-45e9-ddf4-a76ee8083a4d"
      },
      "source": [
        "len(cluster_table)"
      ],
      "execution_count": 91,
      "outputs": [
        {
          "output_type": "execute_result",
          "data": {
            "text/plain": [
              "100"
            ]
          },
          "metadata": {
            "tags": []
          },
          "execution_count": 91
        }
      ]
    },
    {
      "cell_type": "code",
      "metadata": {
        "id": "vZzsSnpmGd7g"
      },
      "source": [
        "def counter_and_articles(table):\n",
        "  cluster_articles=[]\n",
        "  for i in range(len(centroids)):\n",
        "    temp=[]\n",
        "    cluster_articles.append(temp)\n",
        "\n",
        "  for i in range(0,dataset.shape[0]):\n",
        "    for j in range(len(table[i])):\n",
        "      cluster_articles[table[i][j]].append(i)\n",
        "  \n",
        "  cluster_counter=[]\n",
        "  for i in range(len(centroids)):\n",
        "    cluster_counter.append(len(cluster_articles[i]))\n",
        "\n",
        "  return (cluster_articles,cluster_counter)\n",
        "\n"
      ],
      "execution_count": 92,
      "outputs": []
    },
    {
      "cell_type": "code",
      "metadata": {
        "id": "wE-vzcxPLMBT"
      },
      "source": [
        "articles_in_cluster,counter=counter_and_articles(cluster_table)"
      ],
      "execution_count": 93,
      "outputs": []
    },
    {
      "cell_type": "code",
      "metadata": {
        "id": "KJfMv_f8Mjj8",
        "colab": {
          "base_uri": "https://localhost:8080/"
        },
        "outputId": "890cdd70-23d5-4835-a9de-5e1372b8c093"
      },
      "source": [
        "len(articles_in_cluster)"
      ],
      "execution_count": 94,
      "outputs": [
        {
          "output_type": "execute_result",
          "data": {
            "text/plain": [
              "15"
            ]
          },
          "metadata": {
            "tags": []
          },
          "execution_count": 94
        }
      ]
    },
    {
      "cell_type": "code",
      "metadata": {
        "id": "GIbdYK6pSZMW",
        "colab": {
          "base_uri": "https://localhost:8080/"
        },
        "outputId": "e1eccd0c-fb71-4a42-e121-8af3dbc639c9"
      },
      "source": [
        "articles_in_cluster[0]"
      ],
      "execution_count": 95,
      "outputs": [
        {
          "output_type": "execute_result",
          "data": {
            "text/plain": [
              "[0,\n",
              " 1,\n",
              " 2,\n",
              " 3,\n",
              " 4,\n",
              " 5,\n",
              " 6,\n",
              " 8,\n",
              " 9,\n",
              " 10,\n",
              " 11,\n",
              " 12,\n",
              " 13,\n",
              " 14,\n",
              " 15,\n",
              " 16,\n",
              " 18,\n",
              " 19,\n",
              " 20,\n",
              " 21,\n",
              " 22,\n",
              " 23,\n",
              " 24,\n",
              " 25,\n",
              " 26,\n",
              " 27,\n",
              " 28,\n",
              " 29,\n",
              " 30,\n",
              " 31,\n",
              " 32,\n",
              " 33,\n",
              " 35,\n",
              " 36,\n",
              " 37,\n",
              " 38,\n",
              " 39,\n",
              " 41,\n",
              " 44,\n",
              " 45,\n",
              " 46,\n",
              " 47,\n",
              " 49,\n",
              " 50,\n",
              " 51,\n",
              " 53,\n",
              " 54,\n",
              " 55,\n",
              " 56,\n",
              " 59,\n",
              " 60,\n",
              " 61,\n",
              " 62,\n",
              " 63,\n",
              " 64,\n",
              " 65,\n",
              " 66,\n",
              " 67,\n",
              " 68,\n",
              " 69,\n",
              " 70,\n",
              " 72,\n",
              " 78,\n",
              " 79,\n",
              " 80,\n",
              " 81,\n",
              " 82,\n",
              " 83,\n",
              " 85,\n",
              " 86,\n",
              " 89,\n",
              " 90,\n",
              " 91,\n",
              " 93,\n",
              " 94,\n",
              " 97,\n",
              " 99]"
            ]
          },
          "metadata": {
            "tags": []
          },
          "execution_count": 95
        }
      ]
    },
    {
      "cell_type": "code",
      "metadata": {
        "id": "WfIbtF7rMs49",
        "colab": {
          "base_uri": "https://localhost:8080/"
        },
        "outputId": "d2018bb8-db7d-471c-baad-fd7fdd4d12b9"
      },
      "source": [
        "counter"
      ],
      "execution_count": 96,
      "outputs": [
        {
          "output_type": "execute_result",
          "data": {
            "text/plain": [
              "[77, 99, 14, 18, 13, 19, 11, 16, 12, 17, 13, 16, 13, 12, 11]"
            ]
          },
          "metadata": {
            "tags": []
          },
          "execution_count": 96
        }
      ]
    },
    {
      "cell_type": "code",
      "metadata": {
        "id": "8V7pJbpiSN6Z"
      },
      "source": [
        "def TP_function(cluster_set) :\n",
        "    import math\n",
        "    # lambda = (|cx| - 1) * w^2 where w = 2\n",
        "\n",
        "    lamb = (len(cluster_set) - 1) * 4\n",
        "\n",
        "    #theta = summation of |di - di+1| ^ 2\n",
        "\n",
        "    theta = 0\n",
        "    c_list = list(cluster_set)\n",
        "\n",
        "    for i in range(len(c_list) - 1):\n",
        "        theta = theta + (c_list[i] - c_list[i+1]) * (c_list[i] - c_list[i+1])\n",
        "\n",
        "    # TP = e^(lambda - theta) / (1 + e^(lambda - theta))\n",
        "    # print(lamb-theta)\n",
        "    expo = math.exp(lamb - theta)\n",
        "    tp = expo / (1 + expo)\n",
        "    return tp"
      ],
      "execution_count": 97,
      "outputs": []
    },
    {
      "cell_type": "code",
      "metadata": {
        "id": "gxNwcJzRYSd_"
      },
      "source": [
        "def cs(articles_of_cluster_i,cluster_table,cluster_index):\n",
        "  counter_1=0\n",
        "  for i in range(len(articles_of_cluster_i)):\n",
        "    for j in range(len(cluster_table[i])):\n",
        "      if cluster_index==cluster_table[i][j]:\n",
        "        counter_1=counter_1+1\n",
        "\n",
        "  return counter_1/(len(articles_of_cluster_i))\n",
        "\n",
        "\n"
      ],
      "execution_count": 98,
      "outputs": []
    },
    {
      "cell_type": "code",
      "metadata": {
        "id": "TvYU5AaudII-"
      },
      "source": [
        "def tfidf(article_index,cluster_index):\n",
        "  t_f=0\n",
        "  words=articles[article_index].split()\n",
        "  # print(centroids[cluster_index])\n",
        "  for word in words:\n",
        "    # print(word)\n",
        "    if word==centroids[cluster_index]:\n",
        "      t_f=t_f+1\n",
        "  # print(t_f)\n",
        "  # print('\\n')\n",
        "  # print('\\n')\n",
        "  return t_f*(math.log(100/DF[centroids[cluster_index]],2))\n",
        "  \n",
        "\n",
        "    "
      ],
      "execution_count": 99,
      "outputs": []
    },
    {
      "cell_type": "code",
      "metadata": {
        "id": "wcDIFEnwSk9m"
      },
      "source": [
        "def fitness(articles_of_cluster_i,cluster_table,cluster_index,article_index):\n",
        "  ans=0\n",
        "  for final_index in cluster_table[article_index]:\n",
        "    tp_val=TP_function(articles_of_cluster_i)\n",
        "    # print(tp_value)\n",
        "    cs_val=cs(articles_of_cluster_i,cluster_table,final_index)\n",
        "    # print(cs_val)\n",
        "    tfidf_val=tfidf(article_index,final_index)\n",
        "    # print(tfidf_value)\n",
        "    ans+=(tp_val*cs_val*tfidf_val)\n",
        "\n",
        "  return ans\n",
        "  "
      ],
      "execution_count": 100,
      "outputs": []
    },
    {
      "cell_type": "code",
      "metadata": {
        "id": "GCeZyX1sTG0S"
      },
      "source": [
        "#cluster finalization\n",
        "cluster_final_table=[]\n",
        "for i in range(0,15):\n",
        "  temp=[]\n",
        "  cluster_final_table.append(temp)\n",
        "\n",
        "for i in range(0,dataset.shape[0]):\n",
        "  v=-1e100\n",
        "  ind=-1\n",
        "  for j in range(len(cluster_table[i])):\n",
        "    if(v<fitness(articles_in_cluster[cluster_table[i][j]],cluster_table,cluster_table[i][j],i)):\n",
        "      ind=j\n",
        "      v=fitness(articles_in_cluster[cluster_table[i][j]],cluster_table,cluster_table[i][j],i)\n",
        "  cluster_final_table[ind].append(i)\n",
        "  "
      ],
      "execution_count": 101,
      "outputs": []
    },
    {
      "cell_type": "code",
      "metadata": {
        "id": "ghFdCuxeo8pL",
        "colab": {
          "base_uri": "https://localhost:8080/"
        },
        "outputId": "53d9cf86-b8d1-4cc6-a9ca-2daaadc4795b"
      },
      "source": [
        "cluster_final_table"
      ],
      "execution_count": 102,
      "outputs": [
        {
          "output_type": "execute_result",
          "data": {
            "text/plain": [
              "[[0,\n",
              "  1,\n",
              "  2,\n",
              "  3,\n",
              "  4,\n",
              "  5,\n",
              "  6,\n",
              "  7,\n",
              "  8,\n",
              "  9,\n",
              "  10,\n",
              "  11,\n",
              "  12,\n",
              "  13,\n",
              "  14,\n",
              "  15,\n",
              "  16,\n",
              "  17,\n",
              "  19,\n",
              "  20,\n",
              "  21,\n",
              "  22,\n",
              "  23,\n",
              "  24,\n",
              "  25,\n",
              "  26,\n",
              "  27,\n",
              "  28,\n",
              "  29,\n",
              "  30,\n",
              "  31,\n",
              "  32,\n",
              "  33,\n",
              "  34,\n",
              "  35,\n",
              "  36,\n",
              "  37,\n",
              "  39,\n",
              "  40,\n",
              "  41,\n",
              "  42,\n",
              "  43,\n",
              "  44,\n",
              "  45,\n",
              "  46,\n",
              "  47,\n",
              "  49,\n",
              "  50,\n",
              "  51,\n",
              "  52,\n",
              "  53,\n",
              "  54,\n",
              "  55,\n",
              "  56,\n",
              "  57,\n",
              "  58,\n",
              "  60,\n",
              "  61,\n",
              "  63,\n",
              "  64,\n",
              "  65,\n",
              "  66,\n",
              "  67,\n",
              "  69,\n",
              "  70,\n",
              "  71,\n",
              "  72,\n",
              "  74,\n",
              "  76,\n",
              "  77,\n",
              "  79,\n",
              "  80,\n",
              "  81,\n",
              "  82,\n",
              "  83,\n",
              "  84,\n",
              "  85,\n",
              "  86,\n",
              "  87,\n",
              "  88,\n",
              "  89,\n",
              "  90,\n",
              "  92,\n",
              "  93,\n",
              "  94,\n",
              "  95,\n",
              "  97,\n",
              "  98],\n",
              " [18, 38, 48, 59, 62, 68, 73, 75, 78, 91, 99],\n",
              " [96],\n",
              " [],\n",
              " [],\n",
              " [],\n",
              " [],\n",
              " [],\n",
              " [],\n",
              " [],\n",
              " [],\n",
              " [],\n",
              " [],\n",
              " [],\n",
              " []]"
            ]
          },
          "metadata": {
            "tags": []
          },
          "execution_count": 102
        }
      ]
    },
    {
      "cell_type": "code",
      "metadata": {
        "id": "2MOXOj6inbcG"
      },
      "source": [
        "# nc2 function\n",
        "def nc2(cluster_tables):\n",
        "  event_list = []\n",
        "  for i in range(0, 15):\n",
        "    for j in range(len(cluster_tables[i])):\n",
        "      for k in range(j+1, len(cluster_tables[i])):\n",
        "        temp=[]\n",
        "        temp.append(cluster_tables[i][j])\n",
        "        temp.append(cluster_tables[i][k])\n",
        "        event_list.append(temp)\n",
        "  return event_list"
      ],
      "execution_count": 103,
      "outputs": []
    },
    {
      "cell_type": "code",
      "metadata": {
        "id": "8xG4sQMWygxo"
      },
      "source": [
        "def calc(ga_event_lists,ta_event_lists):\n",
        "  comm=0  \n",
        "  for i in range(len(ga_event_lists)):\n",
        "    for j in range(len(ta_event_lists)):\n",
        "      if ga_event_lists[i] == ta_event_lists[j]:\n",
        "        comm = comm + 1\n",
        "  ca=comm\n",
        "  ga=len(ga_event_lists)/15\n",
        "  ta=len(ta_event_lists)*1.5\n",
        "  return ca,ga,ta"
      ],
      "execution_count": 104,
      "outputs": []
    },
    {
      "cell_type": "code",
      "metadata": {
        "id": "kFzbT_5VoDq0"
      },
      "source": [
        "# nc2 GA and TA\n",
        "\n",
        "#GA list\n",
        "ga_event_list = nc2(cluster_final_table)\n",
        "\n",
        "#TA list\n",
        "ta_event_list = nc2(cluster_table)"
      ],
      "execution_count": 105,
      "outputs": []
    },
    {
      "cell_type": "code",
      "metadata": {
        "id": "meDI6taRvmEf"
      },
      "source": [
        "# CA = common tuples from GA and TA\n",
        "ca,ga,ta =calc(ga_event_list,ta_event_list)"
      ],
      "execution_count": 106,
      "outputs": []
    },
    {
      "cell_type": "code",
      "metadata": {
        "colab": {
          "base_uri": "https://localhost:8080/"
        },
        "id": "8EzuiGsMwovh",
        "outputId": "46a4850e-02ed-4afb-e62d-a75bdf443bec"
      },
      "source": [
        "#recall and precision\n",
        "rec=ca/ta\n",
        "pre=ca/ga\n",
        "print(rec)\n",
        "print(pre)"
      ],
      "execution_count": 107,
      "outputs": [
        {
          "output_type": "stream",
          "text": [
            "0.6666666666666666\n",
            "0.42106618593870715\n"
          ],
          "name": "stdout"
        }
      ]
    },
    {
      "cell_type": "code",
      "metadata": {
        "colab": {
          "base_uri": "https://localhost:8080/"
        },
        "id": "UCc0SwYLxA9f",
        "outputId": "92dad21e-110b-47cc-8ad7-fa7b61477d32"
      },
      "source": [
        "f1=2*pre*rec/(pre+rec)\n",
        "print(f1)"
      ],
      "execution_count": 108,
      "outputs": [
        {
          "output_type": "stream",
          "text": [
            "0.5161392155315286\n"
          ],
          "name": "stdout"
        }
      ]
    }
  ]
}